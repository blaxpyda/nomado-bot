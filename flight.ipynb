{
 "cells": [
  {
   "cell_type": "code",
   "execution_count": 25,
   "id": "67349b3f",
   "metadata": {},
   "outputs": [
    {
     "data": {
      "text/plain": [
       "True"
      ]
     },
     "execution_count": 25,
     "metadata": {},
     "output_type": "execute_result"
    }
   ],
   "source": [
    "import requests\n",
    "import json\n",
    "from datetime import datetime\n",
    "import os\n",
    "from dotenv import load_dotenv\n",
    "\n",
    "load_dotenv()"
   ]
  },
  {
   "cell_type": "code",
   "execution_count": 26,
   "id": "ef592425",
   "metadata": {},
   "outputs": [],
   "source": [
    "def get_cheap_flights(origin, destination, depart_date, return_date, token):\n",
    "    url = \"https://api.travelpayouts.com/v1/prices/cheap\"\n",
    "    headers = {\n",
    "        \"Content-Type\": \"application/json\",\n",
    "        \"X-Access-Token\": os.getenv(\"TRAVEL_PAYOUTS_API_KEY\")\n",
    "    }\n",
    "    params = {\n",
    "        \"origin\": origin,\n",
    "        \"destination\": destination,\n",
    "        \"depart_date\": depart_date,\n",
    "        \"return_date\": return_date,\n",
    "    }\n",
    "    try:\n",
    "        response = requests.get(url, headers=headers, params=params)\n",
    "        response.raise_for_status()\n",
    "\n",
    "        data = response.json()\n",
    "        if not data.get(\"success\"):\n",
    "            print(\"API request failed:\", data.get(\"error\", \"Unknown error\"))\n",
    "            return None\n",
    "\n",
    "        flights = data.get(\"data\", {}).get(destination, {})\n",
    "        if not flights:\n",
    "            print(f\"No flights found from {origin} to {destination} on {depart_date}.\")\n",
    "            return None\n",
    "\n",
    "    except requests.exceptions.RequestException as e:\n",
    "        print(f\"An error occurred: {e}\")\n",
    "        return None"
   ]
  },
  {
   "cell_type": "code",
   "execution_count": 27,
   "id": "972244c1",
   "metadata": {},
   "outputs": [],
   "source": [
    "from langchain.chat_models import init_chat_model\n",
    "\n",
    "model = init_chat_model(\"llama3-8b-8192\", model_provider=\"groq\")"
   ]
  },
  {
   "cell_type": "code",
   "execution_count": 29,
   "id": "809df277",
   "metadata": {},
   "outputs": [
    {
     "data": {
      "text/plain": [
       "AIMessage(content=\"The cheapest flights from New York to Los Angeles can vary greatly depending on several factors such as travel dates, time of year, demand, and availability. However, I can provide you with some general information and options to help you find the cheapest flights.\\n\\n**Low-cost carriers:**\\n\\n1. Spirit Airlines: Spirit often offers the cheapest flights from New York (LGA or JFK) to Los Angeles (LAX) with prices starting from around $150-$200 one-way, depending on the travel dates.\\n2. Frontier Airlines: Frontier is another low-cost carrier that operates flights from New York (LGA or JFK) to Los Angeles (LAX) with prices starting from around $180-$250 one-way.\\n3. JetBlue: JetBlue is a low-cost carrier that operates flights from New York (JFK) to Los Angeles (LAX) with prices starting from around $200-$300 one-way.\\n\\n**Budget-friendly airlines:**\\n\\n1. Delta: Delta often offers affordable flights from New York (JFK) to Los Angeles (LAX) with prices starting from around $250-$350 one-way.\\n2. American Airlines: American Airlines operates flights from New York (JFK or LGA) to Los Angeles (LAX) with prices starting from around $250-$350 one-way.\\n3. United Airlines: United operates flights from New York (JFK or LGA) to Los Angeles (LAX) with prices starting from around $250-$350 one-way.\\n\\n**Tips to find the cheapest flights:**\\n\\n1. Be flexible with your travel dates: Prices can vary depending on the day of the week and time of year.\\n2. Book in advance: The earlier you book, the better your chances of getting a cheaper fare.\\n3. Use travel search engines: Websites like Google Flights, Skyscanner, and Kayak can help you compare prices across different airlines and find the best deals.\\n4. Consider alternative airports: If you have multiple airport options, check prices for each airport to find the cheapest one.\\n5. Look for error fares: Keep an eye out for mistake fares, which can be significantly cheaper than usual.\\n6. Sign up for flight alerts: Services like Scott's Cheap Flights and The Flight Deal offer alerts when prices drop or error fares become available.\\n\\nRemember, the cheapest flights may not always be the best option, as you'll need to consider factors like flight duration, layovers, and in-flight amenities when making your decision.\", additional_kwargs={}, response_metadata={'token_usage': {'completion_tokens': 503, 'prompt_tokens': 23, 'total_tokens': 526, 'completion_time': 0.467285012, 'prompt_time': 0.003569629, 'queue_time': 0.147641796, 'total_time': 0.470854641}, 'model_name': 'llama3-8b-8192', 'system_fingerprint': 'fp_343314801a', 'service_tier': 'on_demand', 'finish_reason': 'stop', 'logprobs': None}, id='run--989685ee-cbae-4558-b95d-c693c5eda8fb-0', usage_metadata={'input_tokens': 23, 'output_tokens': 503, 'total_tokens': 526})"
      ]
     },
     "execution_count": 29,
     "metadata": {},
     "output_type": "execute_result"
    }
   ],
   "source": [
    "model.invoke(\n",
    "    \"What are the cheapest flights from New York to Los Angeles on?\"\n",
    ")"
   ]
  },
  {
   "cell_type": "code",
   "execution_count": 30,
   "id": "3365c423",
   "metadata": {},
   "outputs": [],
   "source": [
    "llm_with_tools = model.bind_tools([get_cheap_flights])"
   ]
  },
  {
   "cell_type": "code",
   "execution_count": 31,
   "id": "f13f7cff",
   "metadata": {},
   "outputs": [
    {
     "data": {
      "text/plain": [
       "AIMessage(content='', additional_kwargs={'tool_calls': [{'id': '2769a08v1', 'function': {'arguments': '{\"depart_date\":\"today\",\"destination\":\"Phuket\",\"origin\":\"your_current_location\",\"return_date\":\"today\",\"token\":\"your_api_token\"}', 'name': 'get_cheap_flights'}, 'type': 'function'}]}, response_metadata={'token_usage': {'completion_tokens': 101, 'prompt_tokens': 880, 'total_tokens': 981, 'completion_time': 0.092932051, 'prompt_time': 0.099082648, 'queue_time': 0.144018, 'total_time': 0.192014699}, 'model_name': 'llama3-8b-8192', 'system_fingerprint': 'fp_0fb809dba3', 'service_tier': 'on_demand', 'finish_reason': 'tool_calls', 'logprobs': None}, id='run--8baba3c5-214d-4cc3-b2d0-d41aab93af9e-0', tool_calls=[{'name': 'get_cheap_flights', 'args': {'depart_date': 'today', 'destination': 'Phuket', 'origin': 'your_current_location', 'return_date': 'today', 'token': 'your_api_token'}, 'id': '2769a08v1', 'type': 'tool_call'}], usage_metadata={'input_tokens': 880, 'output_tokens': 101, 'total_tokens': 981})"
      ]
     },
     "execution_count": 31,
     "metadata": {},
     "output_type": "execute_result"
    }
   ],
   "source": [
    "llm_with_tools.invoke(\n",
    "    \"Are there any flights to Phuket\"\n",
    ")"
   ]
  },
  {
   "cell_type": "code",
   "execution_count": 32,
   "id": "a58f7ab7",
   "metadata": {},
   "outputs": [],
   "source": [
    "msg = llm_with_tools.invoke(\n",
    "    \"Are there any flights to Phuket\"\n",
    ")"
   ]
  },
  {
   "cell_type": "code",
   "execution_count": 34,
   "id": "6c68c79a",
   "metadata": {},
   "outputs": [
    {
     "data": {
      "text/plain": [
       "[{'name': 'get_cheap_flights',\n",
       "  'args': {'depart_date': '2023-03-15',\n",
       "   'destination': 'Phuket',\n",
       "   'origin': 'your_location',\n",
       "   'return_date': '2023-03-22',\n",
       "   'token': 'your_flight_token'},\n",
       "  'id': 'mw2gb4tyt',\n",
       "  'type': 'tool_call'}]"
      ]
     },
     "execution_count": 34,
     "metadata": {},
     "output_type": "execute_result"
    }
   ],
   "source": [
    "msg.tool_calls"
   ]
  },
  {
   "cell_type": "code",
   "execution_count": 19,
   "id": "583a407c",
   "metadata": {},
   "outputs": [],
   "source": [
    "from typing_extensions import TypedDict, Optional\n",
    "from langgraph.graph import StateGraph, START, END\n",
    "from IPython.display import display, Image"
   ]
  },
  {
   "cell_type": "code",
   "execution_count": 35,
   "id": "ce7b3665",
   "metadata": {},
   "outputs": [],
   "source": [
    "#Graph state\n",
    "class FlightState(TypedDict):\n",
    "    query: str\n",
    "    origin: Optional[str]\n",
    "    destination: Optional[str]\n",
    "    depart_date: Optional[str]\n",
    "    return_date: Optional[str]\n",
    "    api_response: Optional[dict]\n",
    "    formatted_response: Optional[str]\n",
    "    stage: str\n",
    "    missing: list[str]"
   ]
  },
  {
   "cell_type": "code",
   "execution_count": null,
   "id": "d1c59ad1",
   "metadata": {},
   "outputs": [],
   "source": []
  },
  {
   "cell_type": "code",
   "execution_count": null,
   "id": "370064ec",
   "metadata": {},
   "outputs": [],
   "source": [
    "#Nodes\n",
    "def query(state: FlightState):\n",
    "   '''\n",
    "   First LLM call to generate the query\n",
    "   '''\n",
    "   msg = model.invoke(\n",
    "    '''\n",
    "    You are a travel assistant. The user asked: \"{query}\". Your task is to extract flight search parameters (origin, destination, departure date, return date) from this query. Use IATA codes for cities where possible (e.g., Phuket = HKT). If a parameter is missing or ambiguous, mark it as null and note what’s needed. Assume the current year is {current_year} unless specified. Return a JSON object with the extracted parameters and a list of missing parameters.\n",
    "\n",
    "    Example input: \"Flights from London to Paris in June\"\n",
    "    Example output: {\n",
    "    \"origin\": \"LON\",\n",
    "    \"destination\": \"PAR\",\n",
    "    \"depart_date\": \"2025-08\",\n",
    "    \"return_date\": null,\n",
    "    \"missing\": [\"return_date\"]\n",
    "    }\n",
    "\n",
    "    User query: \"{query}\"\n",
    "    Output: <JSON object>\n",
    "    '''\n",
    "   )\n",
    "   return {\"query\": msg.content}\n"
   ]
  },
  {
   "cell_type": "code",
   "execution_count": null,
   "id": "9b6cd62b",
   "metadata": {},
   "outputs": [],
   "source": []
  }
 ],
 "metadata": {
  "kernelspec": {
   "display_name": "my-agent",
   "language": "python",
   "name": "python3"
  },
  "language_info": {
   "codemirror_mode": {
    "name": "ipython",
    "version": 3
   },
   "file_extension": ".py",
   "mimetype": "text/x-python",
   "name": "python",
   "nbconvert_exporter": "python",
   "pygments_lexer": "ipython3",
   "version": "3.12.3"
  }
 },
 "nbformat": 4,
 "nbformat_minor": 5
}
