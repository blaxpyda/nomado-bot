{
 "cells": [
  {
   "cell_type": "code",
   "execution_count": 2,
   "id": "97b3a87a",
   "metadata": {},
   "outputs": [
    {
     "data": {
      "text/plain": [
       "True"
      ]
     },
     "execution_count": 2,
     "metadata": {},
     "output_type": "execute_result"
    }
   ],
   "source": [
    "from langchain_tavily import TavilySearch\n",
    "from dotenv import load_dotenv\n",
    "import os\n",
    "\n",
    "# Load environment variables from .env file\n",
    "load_dotenv()"
   ]
  },
  {
   "cell_type": "code",
   "execution_count": 4,
   "id": "365d7d14",
   "metadata": {},
   "outputs": [],
   "source": [
    "web_search = TavilySearch(\n",
    "    tavily_api_key=os.getenv(\"TAVILY_SEARCH_API_KEY\"),\n",
    "    max_results=5,\n",
    ")"
   ]
  },
  {
   "cell_type": "code",
   "execution_count": 5,
   "id": "dbcb7b1c",
   "metadata": {},
   "outputs": [],
   "source": [
    "web_search_results  = web_search.invoke(\"Who is the Mayor of Kampala?\")"
   ]
  },
  {
   "cell_type": "code",
   "execution_count": 6,
   "id": "a325372b",
   "metadata": {},
   "outputs": [
    {
     "name": "stdout",
     "output_type": "stream",
     "text": [
      "The current Mayor of Kampala, Erias Lukwago, is a founding mayor of the MMC and has served on the Leadership Board since 2018. Kampala signed the Marrakech\n"
     ]
    }
   ],
   "source": [
    "print(web_search_results[\"results\"][0][\"content\"])"
   ]
  },
  {
   "cell_type": "code",
   "execution_count": 10,
   "id": "298f4cde",
   "metadata": {},
   "outputs": [],
   "source": [
    "from langgraph.prebuilt import create_react_agent\n",
    "from langchain_groq import ChatGroq"
   ]
  },
  {
   "cell_type": "code",
   "execution_count": 13,
   "id": "b7f307b7",
   "metadata": {},
   "outputs": [],
   "source": [
    "research_agent = create_react_agent(\n",
    "    model= ChatGroq(\n",
    "        model=\"llama3-8b-8192\",\n",
    "        groq_api_key=os.getenv(\"GROQ_API_KEY\"),\n",
    "    ),\n",
    "    tools=[web_search],\n",
    "    prompt=(\n",
    "        \"You are a research agent.\\n\\n\"\n",
    "        \"INSTRUCTIONS:\\n\"\n",
    "        \"- Assist ONLY with research-related tasks, DO NOT do any math\\n\"\n",
    "        \"- After you're done with your tasks, respond to the supervisor directly\\n\"\n",
    "        \"- Respond ONLY with the results of your work, do NOT include ANY other text.\"\n",
    "    ), \n",
    "    name=\"Research Agent\",\n",
    ")"
   ]
  },
  {
   "cell_type": "code",
   "execution_count": 14,
   "id": "e52531b3",
   "metadata": {},
   "outputs": [],
   "source": [
    "from langchain_core.messages import convert_to_messages"
   ]
  },
  {
   "cell_type": "code",
   "execution_count": 15,
   "id": "417e6d30",
   "metadata": {},
   "outputs": [],
   "source": [
    "def pretty_print_message(message, indent=False):\n",
    "    pretty_message = message.pretty_repr(html=True)\n",
    "    if not indent:\n",
    "        print(pretty_message)\n",
    "        return\n",
    "    \n",
    "    indented = \"\\n\".join(\"\\t\" + c for c in pretty_message.split(\"\\n\"))\n",
    "    print(indented)"
   ]
  },
  {
   "cell_type": "code",
   "execution_count": 16,
   "id": "6fbd6099",
   "metadata": {},
   "outputs": [],
   "source": [
    "def pretty_print_messages(update, last_message=False):\n",
    "    is_subgraph = False\n",
    "    if isinstance(update, tuple):\n",
    "        ns, update = update\n",
    "        if len(ns) == 0:\n",
    "            return\n",
    "\n",
    "        graph_id = ns[-1].split(\".\")[0]\n",
    "        print(f\"Update from subgraph: {graph_id}:\")\n",
    "        print(\"\\n\")\n",
    "        is_subgraph = True\n",
    "\n",
    "    for node_name, node_update in update.items():\n",
    "        update_label = f\"Update from node: {node_name}:\"\n",
    "        if is_subgraph:\n",
    "            update_label = \"\\t\" + update_label\n",
    "\n",
    "        print(update_label)\n",
    "        print(\"\\n\")\n",
    "\n",
    "        messages = convert_to_messages(node_update[\"messages\"])\n",
    "        if last_message:\n",
    "            messages = messages[-1:]\n",
    "\n",
    "        for m in messages:\n",
    "            pretty_print_message(m, indent=is_subgraph)\n",
    "        print(\"\\n\")"
   ]
  },
  {
   "cell_type": "code",
   "execution_count": 17,
   "id": "85fc6409",
   "metadata": {},
   "outputs": [
    {
     "name": "stdout",
     "output_type": "stream",
     "text": [
      "Update from node: agent:\n",
      "\n",
      "\n",
      "==================================\u001b[1m Ai Message \u001b[0m==================================\n",
      "Name: Research Agent\n",
      "Tool Calls:\n",
      "  tavily_search (07736y6ah)\n",
      " Call ID: 07736y6ah\n",
      "  Args:\n",
      "    query: Who is the Mayor of Kampala?\n",
      "    search_depth: advanced\n",
      "    topic: general\n",
      "\n",
      "\n",
      "Update from node: tools:\n",
      "\n",
      "\n",
      "=================================\u001b[1m Tool Message \u001b[0m=================================\n",
      "Name: tavily_search\n",
      "\n",
      "{\"query\": \"Who is the Mayor of Kampala?\", \"follow_up_questions\": null, \"answer\": null, \"images\": [], \"results\": [{\"url\": \"https://en.wikipedia.org/wiki/Kampala_Capital_City_Authority\", \"title\": \"Kampala Capital City Authority - Wikipedia\", \"content\": \"| Office | Name of official | Title of officer |\\n| --- | --- | --- |\\n| Mayor | Kasirye Nganda Ali | Mayor of Makindye Division |\\n| Mayor | Salim Uhuru | Mayor of Kampala Central Division |\\n| Mayor | Paul Mugambe | Mayor of Nakawa Division |\\n| Mayor | Emmanuel Serunjoji | Mayor of Kawempe Division |\\n| Mayor | Mberaze Mawula Zacchy | Mayor of Lubaga Division |\\n\\n## Staff [...] Wikipedia\\nThe Free Encyclopedia\\n\\n## Contents\\n\\n# Kampala Capital City Authority\\n\\nKampala Capital City Authority\\n\\n|  |  |\\n| --- | --- |\\n| KCCA | |\\n| Agency overview | |\\n| Formed | 2011; 14 years ago (2011) |\\n| Jurisdiction | Government of Uganda |\\n| Headquarters | Kampala, Uganda |\\n| Employees | 1,133 (2018) |\\n| Agency executives |  Lord Mayor,  Erias Lukwago  Executive director,  Dorothy Kisaka |\\n| Parent agency | Ministry of Kampala Capital City Authority Affairs |\\n| Website | kcca.go.ug | [...] The affairs of the capital city of Kampala were brought under the direct supervision of the central Ugandan government. The city clerk, formerly the highest financial officer in the city, was replaced by the executive director, who is answerable to the Minister of Kampala Capital City Authority, currently Hajat Minsa Kabanda\\\"). The elected mayor became the lord mayor, now a largely ceremonial position. In addition to the politically elected councilors, the expanded KCCA Council has members from\", \"score\": 0.8745175, \"raw_content\": null}, {\"url\": \"https://en.wikipedia.org/wiki/Lord_Mayor_of_Kampala\", \"title\": \"Lord Mayor of Kampala - Wikipedia\", \"content\": \"The Lord Mayor of Kampala City (Swahili: Bwana Meya wa Kampala) is the honorary title of the chairperson of Kampala Capital City Authority which is the local government body for the city of Kampala, the capital of the Republic of Uganda. The incumbent, since 2011, is councilor Erias Lukwago.\\n\\n## History [...] | Lord Mayor of Kampala | |\\n| --- | --- |\\n| Incumbent Erias Lukwago since 27 June 2022 | |\\n| Style \\\"Style (form of address)\\\") | Mr. Mayor \\\"Mr. President (title)\\\") (informal) The Honorable (formal) His Worship \\\"Worship (style)\\\") (formal) |\\n| Reports to | Minister for Kampala |\\n| Residence | Kampala |\\n| Appointer | Kampala Capital City Authority |\\n| Inaugural holder | Sir Amar Maini |\\n| Formation | 1950 |\\n| Deputy | Deputy Lord Mayor of Kampala |\\n| Website | kcca.go.ug | [...] The office of Mayor of Kampala was created in 1950 by the government of the Protectorate of Uganda, and headed the Kampala City Council. In 1998, the mayor was elected directly for the first time. The office of Mayor was elevated to Lord Mayor in 2011 by the newly established Kampala Capital City Authority. Its role was reduced to a ceremonial one, with powers being transferred to the executive director, appointed by the President of Uganda, and the Minister for Kampala in the Cabinet.\", \"score\": 0.8591094, \"raw_content\": null}, {\"url\": \"https://en.wikipedia.org/wiki/Kampala\", \"title\": \"Kampala - Wikipedia\", \"content\": \"| Kampala highlighted in red inside the Republic of Uganda Kampala highlighted in red inside the Republic of Uganda | |\\n| Kampala is located in Uganda Kampala  Kampala  Location of Kampala in Uganda Show map of Uganda  Kampala is located in Africa Kampala  Kampala  Location in Africa Show map of Africa | |\\n| Coordinates: 00°18′49″N 32°34′52″E﻿ / ﻿0.31361°N 32.58111°E﻿ / 0.31361; 32.58111) | |\\n| Country | Uganda |\\n| City | Kampala District |\\n| Government | |\\n| • Lord Mayor | Erias Lukwago | [...] | Date | Name | Notes |\\n| --- | --- | --- |\\n| 16 June 2017 | Aga Khan IV (1936–present) | British humanitarian and Imam of Nizari-Ismaili Shia Islam |\\n\\n## Economy [...] Kampala (UK: /kæmˈpɑːlə/, US: /kɑːmˈ-/ ⓘ) is the capital and largest city of Uganda. The city proper has a population of 1,875,834 (2024) and is divided into the five political divisions of Kampala, Kawempe, Makindye, Nakawa, and Rubaga.\", \"score\": 0.85421735, \"raw_content\": null}, {\"url\": \"https://www.kcca.go.ug/\", \"title\": \"KAMPALA CAPITAL CITY AUTHORITY | For a better City\", \"content\": \"## Kampala Lord Mayor\\n\\n## Executive Director\\n\\nHajjat Buzeki Sharifah   \\nRead more \\n\\n## Executive Director\\n\\n## Stay connected on social media\\n\\n## Development partners\\n\\n##### Our Address\\n\\n##### Translate Site\\n\\n##### Other Links\\n\\n##### Online Services\\n\\n##### Contact Us\\n\\nTel: 0312 90 00 00  SMS code: 7010  \\nToll free line: 0800 299 000 [...] ## KAMPALA RECORDS DROP IN ROAD FATALITIES, LAUNCHES SPEED MANAGEMENT MEDIA...\\n\\n## KCCA ED LEADS NAKAWA IN CLEAN-UP, RALLIES HOUSEHOLDS TO EMBRACE WASTE SORTING\\n\\n## JAPANESE ENVOY VISITS KAMPALA TRAFFIC CONTROL CENTRE\\n\\n## KAMPALA CITY FESTIVAL RETURNS AFTER EIGHT-YEAR BREAK\\n\\n## Procurement Notices\\n\\nView more notices\\n\\n## Minister for Kampala City\\n\\nHon. Hajjati Minsa Kabanda  \\n Read more \\n\\n## Minister for Kampala City\\n\\n## Kampala Lord Mayor\\n\\nHis Worship, Erias Lukwago  \\nRead more [...] ## \\n\\n## Smart Permit Apply and track development permissions online OPEN SMART PERMIT\\n\\nApply and track development permissions online\\n\\nOPEN SMART PERMIT\\n\\nVisit eCitie system for online payment\\ncheckout the status of your submited plan\\ncontact us\\ncontact us\\ncontact us\\nKampala Air Quality Data\\nVisit City Festival website\\ncontact us\\nVisit City Festival website\\nKCCA FC\\nKAMPALA AGRIBUSINESS\\nKAMPALA AGRIBUSINESS\\n\\n## Latest News and Adverts\", \"score\": 0.8235701, \"raw_content\": null}, {\"url\": \"https://www.kcca.go.ug/about-the-authority\", \"title\": \"About the Authority - KAMPALA CAPITAL CITY AUTHORITY\", \"content\": \"OFFICENAME OF OFFICIALTITLE OF OFFICER\\nCabinet Minister Hon. Hajjati Minsa Kabanda Minister for Kampala City and Metropolitan Affairs\\nState Minister Hon. Kabuye Kyofatogabye State Minister for Kampala Capital City and Metropolitan Affairs\\nMayor Erias Lukwago Lord Mayor of Kampala City\\nDeputy Lord Mayor Doreen Nyanjura Deputy Lord Mayor of Kampala City\\nCITY EXECUTIVE COMMITTEE\\nMayor Erias Lukwago Lord Mayor\\nSpeaker Zahrah Maala Luyirika Speaker [...] Town Clerk Thomas Ssentongo Town Clerk for Makindye Division\\nCentral Division\\nMayor Salim Uhuru Mayor for Kampala Central Division\\nSpeaker Erieza katawera Speaker for Kampala Central Division\\nTown Clerk Denis Omodi Ayela Town Clerk for Central Division\\nNakawa Division\\nMayor Paul Mugambe Mayor for Nakawa Division\\nSpeaker Godfrey Luyombya Speaker for Nakawa Division\\nTown Clerk Moses Ssempa Town Clerk for Nakawa Division\\nKawempe Division\\nMayor Serunjogi Emmanuel Mayor for Kawempe Division [...] Deputy Lord Mayor Doreen Nyanjura Deputy Lord Mayor\\nPublic Health and Environment Namazzi Olive Executive Secretary, Public Health and Environment\\nPhysical Planning Hakim Sawula Executive Secretary, Physical Planning\\nHuman Resource and Administration Ssebuwufu John Mary Executive Secretary, Human Resource and Administration\\nMakindye Division\\nMayor Kasirye Nganda Ali Mayor for Makindye Division\\nSpeaker Luba Charlse Speaker for Makindye Division\", \"score\": 0.82117355, \"raw_content\": null}], \"response_time\": 3.02, \"request_id\": \"68cfe048-2f99-4626-87b9-d2daac096455\"}\n",
      "\n",
      "\n",
      "Update from node: agent:\n",
      "\n",
      "\n",
      "==================================\u001b[1m Ai Message \u001b[0m==================================\n",
      "Name: Research Agent\n",
      "\n",
      "Based on the tool call output, the current Lord Mayor of Kampala is Erias Lukwago.\n",
      "\n",
      "\n"
     ]
    }
   ],
   "source": [
    "for chunk in research_agent.stream(\n",
    "    {\n",
    "        \"messages\": [\n",
    "            {\n",
    "                \"role\": \"user\",\n",
    "                \"content\": \"Who is the Mayor of Kampala?\",\n",
    "            }\n",
    "        ]\n",
    "    }\n",
    "):\n",
    "    pretty_print_messages(chunk)"
   ]
  },
  {
   "cell_type": "code",
   "execution_count": null,
   "id": "fe1a0be2",
   "metadata": {},
   "outputs": [],
   "source": []
  }
 ],
 "metadata": {
  "kernelspec": {
   "display_name": "my-agent",
   "language": "python",
   "name": "python3"
  },
  "language_info": {
   "codemirror_mode": {
    "name": "ipython",
    "version": 3
   },
   "file_extension": ".py",
   "mimetype": "text/x-python",
   "name": "python",
   "nbconvert_exporter": "python",
   "pygments_lexer": "ipython3",
   "version": "3.12.3"
  }
 },
 "nbformat": 4,
 "nbformat_minor": 5
}
