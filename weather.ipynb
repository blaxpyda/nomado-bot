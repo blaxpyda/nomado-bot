{
 "cells": [
  {
   "cell_type": "code",
   "execution_count": 2,
   "id": "2da1de4d",
   "metadata": {},
   "outputs": [],
   "source": [
    "from langgraph.prebuilt import create_react_agent\n"
   ]
  },
  {
   "cell_type": "code",
   "execution_count": null,
   "id": "78267f30",
   "metadata": {},
   "outputs": [],
   "source": [
    "def check_weather(location: str) -> str:\n",
    "    '''Return the weather forecast for a specific location'''\n",
    "    return f\"Its always sunny in {location}\"\n",
    "\n",
    "graph = create_react_agent(\n",
    "    \n",
    ")"
   ]
  }
 ],
 "metadata": {
  "kernelspec": {
   "display_name": "my-agent",
   "language": "python",
   "name": "python3"
  },
  "language_info": {
   "codemirror_mode": {
    "name": "ipython",
    "version": 3
   },
   "file_extension": ".py",
   "mimetype": "text/x-python",
   "name": "python",
   "nbconvert_exporter": "python",
   "pygments_lexer": "ipython3",
   "version": "3.12.3"
  }
 },
 "nbformat": 4,
 "nbformat_minor": 5
}
